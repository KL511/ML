{
  "nbformat": 4,
  "nbformat_minor": 0,
  "metadata": {
    "colab": {
      "provenance": []
    },
    "kernelspec": {
      "name": "python3",
      "display_name": "Python 3"
    },
    "language_info": {
      "name": "python"
    }
  },
  "cells": [
    {
      "cell_type": "markdown",
      "source": [
        "1 задача"
      ],
      "metadata": {
        "id": "vwLGBGKY7bz5"
      }
    },
    {
      "cell_type": "code",
      "execution_count": 51,
      "metadata": {
        "colab": {
          "base_uri": "https://localhost:8080/"
        },
        "id": "iJivLesc4lp9",
        "outputId": "38f25482-12ef-4c92-ae46-047b500f1756"
      },
      "outputs": [
        {
          "output_type": "stream",
          "name": "stdout",
          "text": [
            "Введите температуру 30\n",
            "ЖАРКО\n"
          ]
        }
      ],
      "source": [
        "\n",
        "T = float(input('Введите температуру '))\n",
        "if T < 15.5:\n",
        "  print (\"ХОЛОДНО\")\n",
        "elif T > 28:\n",
        "  print (\"ЖАРКО\")\n",
        "else:\n",
        "  print (\"НОРМАЛЬНО\")"
      ]
    },
    {
      "cell_type": "markdown",
      "source": [
        "2 задача"
      ],
      "metadata": {
        "id": "lIF0ML4g7jfr"
      }
    },
    {
      "cell_type": "code",
      "source": [
        "n = int(input('Введите число строк '))\n",
        "for i in range(n):\n",
        "  a = str(input('Введите строку '))\n",
        "  if 'кот' in a:\n",
        "    print ('МЯУ')\n"
      ],
      "metadata": {
        "colab": {
          "base_uri": "https://localhost:8080/"
        },
        "id": "B5q15rD97aFn",
        "outputId": "b36e633e-1f53-4b94-bb63-a626dc64c180"
      },
      "execution_count": 52,
      "outputs": [
        {
          "name": "stdout",
          "output_type": "stream",
          "text": [
            "Введите число строк 2\n",
            "Введите строку котик\n",
            "МЯУ\n",
            "Введите строку ящик\n"
          ]
        }
      ]
    },
    {
      "cell_type": "markdown",
      "source": [
        "3 задача"
      ],
      "metadata": {
        "id": "q_HEqzgv-NNR"
      }
    },
    {
      "cell_type": "markdown",
      "source": [
        "4 задача"
      ],
      "metadata": {
        "id": "oHerODLu-oyU"
      }
    },
    {
      "cell_type": "code",
      "source": [
        "n = int(input('Введите количество покупок '))\n",
        "for i in range(n):\n",
        "  a = str(input(' '))\n"
      ],
      "metadata": {
        "colab": {
          "base_uri": "https://localhost:8080/"
        },
        "id": "5_1XaV8--p3A",
        "outputId": "97852599-c026-474b-9f71-53a0b4c4c982"
      },
      "execution_count": 53,
      "outputs": [
        {
          "name": "stdout",
          "output_type": "stream",
          "text": [
            "Введите количество покупок 2\n",
            " апельсин\n",
            " молоко\n"
          ]
        }
      ]
    },
    {
      "cell_type": "markdown",
      "source": [
        "5 задача"
      ],
      "metadata": {
        "id": "CvhsFG2F_IeV"
      }
    },
    {
      "cell_type": "code",
      "source": [
        "n = list(input())\n",
        "for i in range(len(n)):\n",
        "   n[i] = n[i]*2\n",
        "n = \"\".join(n)\n",
        "print (n)"
      ],
      "metadata": {
        "colab": {
          "base_uri": "https://localhost:8080/"
        },
        "id": "TMu9cD0V_Jr7",
        "outputId": "c0f1747a-5a21-421f-8066-7ad233c6db02"
      },
      "execution_count": 54,
      "outputs": [
        {
          "output_type": "stream",
          "name": "stdout",
          "text": [
            "холод\n",
            "ххооллоодд\n"
          ]
        }
      ]
    },
    {
      "cell_type": "markdown",
      "source": [
        "6 задача"
      ],
      "metadata": {
        "id": "CBaBFnDnEOxD"
      }
    },
    {
      "cell_type": "code",
      "source": [
        "def greet(n):\n",
        "  name1 = str(input('Введите имя '))\n",
        "  name2 = str(input('Введите фамилию '))\n",
        "  n = name1 + ' ' + name2\n",
        "  return n\n",
        "print ('Здравствуйте, ', greet(n))\n",
        "\n"
      ],
      "metadata": {
        "id": "aLeeUPp6EQSa",
        "colab": {
          "base_uri": "https://localhost:8080/"
        },
        "outputId": "27828836-51a3-4369-f9bc-eb7c5e05d3d9"
      },
      "execution_count": 55,
      "outputs": [
        {
          "output_type": "stream",
          "name": "stdout",
          "text": [
            "Введите имя Михаил\n",
            "Введите фамилию Михайлович\n",
            "Здравствуйте,  Михаил Михайлович\n"
          ]
        }
      ]
    },
    {
      "cell_type": "markdown",
      "source": [
        "8 задача"
      ],
      "metadata": {
        "id": "Cu9O8OvVGXgp"
      }
    },
    {
      "cell_type": "markdown",
      "source": [
        "В бакалавриате вначале преподавали C, C++ и matlab, а потом, уже в самом конце, питон. В результате в голове каша, непонимание и страх."
      ],
      "metadata": {
        "id": "WoJvjaNCGtB-"
      }
    }
  ]
}