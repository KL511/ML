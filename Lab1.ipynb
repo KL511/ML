{
  "nbformat": 4,
  "nbformat_minor": 0,
  "metadata": {
    "colab": {
      "provenance": []
    },
    "kernelspec": {
      "name": "python3",
      "display_name": "Python 3"
    },
    "language_info": {
      "name": "python"
    }
  },
  "cells": [
    {
      "cell_type": "code",
      "execution_count": 11,
      "metadata": {
        "id": "FzuBYdkuZgAr"
      },
      "outputs": [],
      "source": [
        "class Pupa():\n",
        "  def __init__(self):\n",
        "    self.sal = 0\n",
        "  def do_work(self,spisok1, spisok2):\n",
        "    spisok = []\n",
        "    for i in range(len(spisok1)):\n",
        "      spisok.append(spisok1[i]+spisok2[i])\n",
        "    print(spisok)\n",
        "  def take_salary(self, new_sal):\n",
        "    self.sal += new_sal\n",
        "class Lupa():\n",
        "  def __init__(self):\n",
        "    self.sal = 0\n",
        "  def do_work(self, spisok1, spisok2):\n",
        "    spisok = []\n",
        "    for i in range(len(spisok1)):\n",
        "      spisok.append(spisok1[i]-spisok2[i])\n",
        "    print(spisok)\n",
        "  def take_salary(self, new_sal):\n",
        "    self.sal += new_sal\n",
        "class Accountant():\n",
        "  #def __init__(self):\n",
        "  def give_salary(self, worker):\n",
        "    worker.take_salary(5)"
      ]
    },
    {
      "cell_type": "code",
      "source": [
        "pupa = Pupa()\n",
        "print(pupa.sal)\n",
        "lupa = Lupa()\n",
        "print(lupa.sal)\n",
        "Ac = Accountant()\n",
        "pupa.do_work([1,2,3], [4,5,6])\n",
        "Ac.give_salary(pupa)\n",
        "print(pupa.sal)\n",
        "print(lupa.sal)\n",
        "pupa.do_work([1,2,3], [4,5,6])\n",
        "Ac.give_salary(pupa)\n",
        "print(pupa.sal)\n",
        "print(lupa.sal)\n",
        "lupa.do_work([1,2,3], [4,5,6])\n",
        "Ac.give_salary(lupa)\n",
        "print(pupa.sal)\n",
        "print(lupa.sal)"
      ],
      "metadata": {
        "colab": {
          "base_uri": "https://localhost:8080/"
        },
        "id": "EN01V9rCkFlZ",
        "outputId": "5b35ec02-3eb3-4a4b-a671-7b6e259e42f5"
      },
      "execution_count": 14,
      "outputs": [
        {
          "output_type": "stream",
          "name": "stdout",
          "text": [
            "0\n",
            "0\n",
            "[5, 7, 9]\n",
            "5\n",
            "0\n",
            "[5, 7, 9]\n",
            "10\n",
            "0\n",
            "[-3, -3, -3]\n",
            "10\n",
            "5\n"
          ]
        }
      ]
    }
  ]
}