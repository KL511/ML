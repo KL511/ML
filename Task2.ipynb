{
  "nbformat": 4,
  "nbformat_minor": 0,
  "metadata": {
    "colab": {
      "provenance": []
    },
    "kernelspec": {
      "name": "python3",
      "display_name": "Python 3"
    },
    "language_info": {
      "name": "python"
    }
  },
  "cells": [
    {
      "cell_type": "markdown",
      "source": [
        "Task 1"
      ],
      "metadata": {
        "id": "tY_aHLFPLvKg"
      }
    },
    {
      "cell_type": "code",
      "execution_count": 5,
      "metadata": {
        "id": "lNViHKoC1A3_",
        "colab": {
          "base_uri": "https://localhost:8080/"
        },
        "outputId": "ef23ae4b-2a1e-4133-dead-d02dde70e9aa"
      },
      "outputs": [
        {
          "output_type": "stream",
          "name": "stdout",
          "text": [
            "4\n",
            "1\n",
            "2\n",
            "3\n",
            "4\n",
            "['4', '3', '2', '1']\n"
          ]
        }
      ],
      "source": [
        "n = int(input())\n",
        "list_input = []\n",
        "for i in range(n):\n",
        "  list_input.append(input())\n",
        "list_input.reverse()\n",
        "print(list_input)\n",
        "\n"
      ]
    },
    {
      "cell_type": "markdown",
      "source": [
        "Task 2"
      ],
      "metadata": {
        "id": "o6jc6qeePtbC"
      }
    },
    {
      "cell_type": "code",
      "source": [
        "n = int(input())\n",
        "list_input = []\n",
        "for i in range(n):\n",
        "  list_input.append(input())\n",
        "  if list(list_input[i])[0] == '%' and list(list_input[i])[1] == '%':\n",
        "     list_input[i] = list_input[i].replace('%%', '')\n",
        "  if list(list_input[i])[0] == '#' and list(list_input[i])[1] == '#' and list(list_input[i])[2] == '#' and list(list_input[i])[3] == '#':\n",
        "    list_input.pop(i)\n",
        "print(list_input)\n",
        "\n"
      ],
      "metadata": {
        "colab": {
          "base_uri": "https://localhost:8080/"
        },
        "id": "wVQlU6QSPv2i",
        "outputId": "6760639c-715f-45fd-a02a-8bc6daf0b502"
      },
      "execution_count": 84,
      "outputs": [
        {
          "output_type": "stream",
          "name": "stdout",
          "text": [
            "3\n",
            "asd\n",
            "%%asd\n",
            "####asf\n",
            "['asd', 'asd']\n"
          ]
        }
      ]
    },
    {
      "cell_type": "markdown",
      "source": [
        "Task 3"
      ],
      "metadata": {
        "id": "NwgTfOSBUR64"
      }
    },
    {
      "cell_type": "code",
      "source": [
        "n = int(input())\n",
        "list_input = []\n",
        "for i in range(n):\n",
        "  list_input.append(int(input()))\n",
        "p = int(input())\n",
        "q = int(input())\n",
        "print(sum(list_input[p-1:q:1]))\n",
        "\n"
      ],
      "metadata": {
        "colab": {
          "base_uri": "https://localhost:8080/"
        },
        "id": "52w0wx3PUTzY",
        "outputId": "12a2e161-84f5-40ec-bb85-765d5d05eab7"
      },
      "execution_count": 68,
      "outputs": [
        {
          "output_type": "stream",
          "name": "stdout",
          "text": [
            "5\n",
            "100\n",
            "200\n",
            "300\n",
            "40\n",
            "50\n",
            "2\n",
            "4\n",
            "540\n"
          ]
        }
      ]
    },
    {
      "cell_type": "markdown",
      "source": [
        "Task 4"
      ],
      "metadata": {
        "id": "mW0TdXS1WmPT"
      }
    },
    {
      "cell_type": "code",
      "source": [
        "def Artek(s, n):\n",
        "  a = []\n",
        "  b = []\n",
        "  res_b = []\n",
        "  s = s.split(', ')\n",
        "  for i in range(len(s)):\n",
        "    if '5' in s[i]:\n",
        "      a.append(s[i])\n",
        "  if len(a) > n:\n",
        "    a.sort()\n",
        "    for i in range(n):\n",
        "      b.append(a[i])\n",
        "  for i in range(len(b)):\n",
        "    res_b.append(b[i].replace('5', ''))\n",
        "  return ', '.join(res_b)\n",
        "Artek(str(input()), int(input()))\n",
        "\n",
        "\n",
        "\n",
        "\n"
      ],
      "metadata": {
        "colab": {
          "base_uri": "https://localhost:8080/",
          "height": 72
        },
        "id": "gBeGMCA3Wnpm",
        "outputId": "93dde335-3983-4d5f-f1bd-de705886f72b"
      },
      "execution_count": 81,
      "outputs": [
        {
          "name": "stdout",
          "output_type": "stream",
          "text": [
            "Сидоров 3, Смирнова 5, Самойкин 4, Емельянов 2, Кац 5, Вдовиченко 5, Северин 4, Субботкин 5\n",
            "3\n"
          ]
        },
        {
          "output_type": "execute_result",
          "data": {
            "text/plain": [
              "'Вдовиченко , Кац , Смирнова '"
            ],
            "application/vnd.google.colaboratory.intrinsic+json": {
              "type": "string"
            }
          },
          "metadata": {},
          "execution_count": 81
        }
      ]
    },
    {
      "cell_type": "markdown",
      "source": [
        "Task 5"
      ],
      "metadata": {
        "id": "Le2Pn__tVD_9"
      }
    },
    {
      "cell_type": "code",
      "source": [
        "def Password_level(pas):\n",
        "  k1, k2, k3 = 0, 0, 0\n",
        "  if len(pas) <= 7:\n",
        "    k1=1\n",
        "  if pas.isdigit() == True:\n",
        "    k2=1\n",
        "  elif pas.isalpha() == True:\n",
        "    if pas.islower() == True:\n",
        "      k2=1\n",
        "    elif pas.isupper() == True:\n",
        "      k2=1\n",
        "  sym = ['@', '#', '$', '%', '&', '*', '(', ')', '.', ',','-', '_', '+']\n",
        "  if pas.islower() == False:\n",
        "    if pas.isupper() == False:\n",
        "      for i in sym:\n",
        "        if i in pas:\n",
        "          k3=1\n",
        "  if k1 == 1:\n",
        "    print('Недопустимый пароль')\n",
        "  elif k2 == 1:\n",
        "    print('Ненадежный пароль')\n",
        "  elif k3 == 1:\n",
        "    print('Надежный пароль')\n",
        "  else:\n",
        "    print('Слабый пароль')\n",
        "Password_level(input('Введите пароль '))\n",
        "\n",
        "\n",
        ""
      ],
      "metadata": {
        "colab": {
          "base_uri": "https://localhost:8080/"
        },
        "id": "FfF3qBD4VGKh",
        "outputId": "bb986b09-a96e-4edd-dc74-74c438e24923"
      },
      "execution_count": 83,
      "outputs": [
        {
          "output_type": "stream",
          "name": "stdout",
          "text": [
            "Введите пароль ygY78***********\n",
            "Надежный пароль\n"
          ]
        }
      ]
    }
  ]
}