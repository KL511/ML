{
  "nbformat": 4,
  "nbformat_minor": 0,
  "metadata": {
    "colab": {
      "provenance": []
    },
    "kernelspec": {
      "name": "python3",
      "display_name": "Python 3"
    },
    "language_info": {
      "name": "python"
    }
  },
  "cells": [
    {
      "cell_type": "markdown",
      "source": [
        "1 задача"
      ],
      "metadata": {
        "id": "vwLGBGKY7bz5"
      }
    },
    {
      "cell_type": "code",
      "execution_count": 46,
      "metadata": {
        "colab": {
          "base_uri": "https://localhost:8080/"
        },
        "id": "iJivLesc4lp9",
        "outputId": "63cf86de-0a8f-421a-a041-7b1344eff957"
      },
      "outputs": [
        {
          "output_type": "stream",
          "name": "stdout",
          "text": [
            "Введите температуру30\n",
            "ЖАРКО\n"
          ]
        }
      ],
      "source": [
        "\n",
        "T = float(input('Введите температуру '))\n",
        "if T < 15.5:\n",
        "  print (\"ХОЛОДНО\")\n",
        "elif T > 28:\n",
        "  print (\"ЖАРКО\")\n",
        "else:\n",
        "  print (\"НОРМАЛЬНО\")"
      ]
    },
    {
      "cell_type": "markdown",
      "source": [
        "2 задача"
      ],
      "metadata": {
        "id": "lIF0ML4g7jfr"
      }
    },
    {
      "cell_type": "code",
      "source": [
        "n = int(input('Введите число строк '))\n",
        "for i in range(n):\n",
        "  a = str(input('Введите строку '))\n",
        "  if 'кот' in a:\n",
        "    print ('МЯУ')\n"
      ],
      "metadata": {
        "colab": {
          "base_uri": "https://localhost:8080/"
        },
        "id": "B5q15rD97aFn",
        "outputId": "dcd58fda-23b5-42eb-ff31-044d87ac5a0f"
      },
      "execution_count": 47,
      "outputs": [
        {
          "name": "stdout",
          "output_type": "stream",
          "text": [
            "Введите число строк3\n",
            "Введите строкуdf\n",
            "Введите строкуsdf\n",
            "Введите строкуsdf\n"
          ]
        }
      ]
    },
    {
      "cell_type": "markdown",
      "source": [
        "3 задача"
      ],
      "metadata": {
        "id": "q_HEqzgv-NNR"
      }
    },
    {
      "cell_type": "markdown",
      "source": [
        "4 задача"
      ],
      "metadata": {
        "id": "oHerODLu-oyU"
      }
    },
    {
      "cell_type": "code",
      "source": [
        "n = int(input('Введите количество покупок '))\n",
        "for i in range(n):\n",
        "  a = str(input(' '))\n"
      ],
      "metadata": {
        "colab": {
          "base_uri": "https://localhost:8080/"
        },
        "id": "5_1XaV8--p3A",
        "outputId": "e2079aaf-972a-4c1c-9ba5-59e8c8677f37"
      },
      "execution_count": 48,
      "outputs": [
        {
          "name": "stdout",
          "output_type": "stream",
          "text": [
            "Введите количество покупок 6\n",
            " asd\n",
            " asd\n",
            " asd\n",
            " df\n",
            " sdf\n",
            " sdf\n"
          ]
        }
      ]
    },
    {
      "cell_type": "markdown",
      "source": [
        "5 задача"
      ],
      "metadata": {
        "id": "CvhsFG2F_IeV"
      }
    },
    {
      "cell_type": "code",
      "source": [
        "n = list(input())\n",
        "for i in range(len(n)):\n",
        "   n[i] = n[i]*2\n",
        "n = \"\".join(n)\n",
        "print (n)"
      ],
      "metadata": {
        "colab": {
          "base_uri": "https://localhost:8080/"
        },
        "id": "TMu9cD0V_Jr7",
        "outputId": "ee0ef40b-0855-4e14-d89c-6864ec9925b9"
      },
      "execution_count": 49,
      "outputs": [
        {
          "output_type": "stream",
          "name": "stdout",
          "text": [
            "fggdrg\n",
            "ffggggddrrgg\n"
          ]
        }
      ]
    },
    {
      "cell_type": "markdown",
      "source": [
        "6 задача"
      ],
      "metadata": {
        "id": "CBaBFnDnEOxD"
      }
    },
    {
      "cell_type": "code",
      "source": [
        "def greet(n):\n",
        "  name1 = str(input('Введите имя '))\n",
        "  name2 = str(input('Введите фамилию '))\n",
        "  n = name1 + ' ' + name2\n",
        "  return n\n",
        "print ('Здравствуйте, ', greet(n))\n",
        "\n"
      ],
      "metadata": {
        "id": "aLeeUPp6EQSa",
        "colab": {
          "base_uri": "https://localhost:8080/"
        },
        "outputId": "19fa90e3-8bd7-4445-97cf-69fdd3550ea8"
      },
      "execution_count": 50,
      "outputs": [
        {
          "output_type": "stream",
          "name": "stdout",
          "text": [
            "Введите имя fg\n",
            "Введите фамилию dzhz\n",
            "Здравствуйте,  fg dzhz\n"
          ]
        }
      ]
    },
    {
      "cell_type": "markdown",
      "source": [
        "8 задача"
      ],
      "metadata": {
        "id": "Cu9O8OvVGXgp"
      }
    },
    {
      "cell_type": "markdown",
      "source": [
        "В бакалавриате вначале преподавали C, C++ и matlab, а потом, уже в самом конце, питон. В результате в голове каша, непонимание и страх."
      ],
      "metadata": {
        "id": "WoJvjaNCGtB-"
      }
    }
  ]
}